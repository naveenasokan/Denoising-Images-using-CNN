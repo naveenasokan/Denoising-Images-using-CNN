{
  "nbformat": 4,
  "nbformat_minor": 0,
  "metadata": {
    "colab": {
      "provenance": [],
      "authorship_tag": "ABX9TyM4kzY7GJLJNJUDcRPQsyqc"
    },
    "kernelspec": {
      "name": "python3",
      "display_name": "Python 3"
    },
    "language_info": {
      "name": "python"
    }
  },
  "cells": [
    {
      "cell_type": "code",
      "execution_count": 21,
      "metadata": {
        "id": "kSOMDPMjcmRu"
      },
      "outputs": [],
      "source": [
        "import tensorflow as tf\n",
        "import os\n",
        "import cv2\n",
        "import matplotlib.pyplot as plt\n",
        "import numpy as np\n",
        "import glob\n",
        "from PIL import Image\n",
        "import requests\n",
        "from io import BytesIO\n",
        "from skimage import io\n",
        "from google.colab import drive\n",
        "\n"
      ]
    },
    {
      "cell_type": "code",
      "source": [
        "\n",
        "\n",
        "images_dir = '/content/drive/My Drive/Denoise cnn/'\n",
        "train = glob.glob(images_dir+'Train400/*.png')"
      ],
      "metadata": {
        "id": "mLasjy_biU74"
      },
      "execution_count": 24,
      "outputs": []
    },
    {
      "cell_type": "code",
      "source": [
        "SD=25\n",
        "patchsize=50\n",
        "noisetrain=[]\n",
        "patches =[]\n",
        "\n",
        "\n",
        "\n",
        "def addnoise(SD,i):\n",
        "  SD=25\n",
        "  img=cv2.imread(i)\n",
        "  H, W = img.shape[:-1]\n",
        "  scale_h, scale_w = H//50 * 50, W//50 * 50\n",
        "  resize_img = cv2.resize(img, (scale_w, scale_h), cv2.INTER_CUBIC)/255.0\n",
        "\n",
        "\n",
        "  imgn=np.random.normal(scale=SD/255.0, size=(scale_h, scale_w, 3))+resize_img\n",
        "  for i in range(0, imgn.shape[0] - patchsize + 1, patchsize):\n",
        "    for j in range(0, imgn.shape[1] - patchsize + 1, patchsize):\n",
        "        patches.append(imgn[i:i+patchsize, j:j+patchsize, :])\n",
        "\n",
        "for i in train:\n",
        "  addnoise(SD,i)\n",
        "\n",
        "\n",
        "\n",
        "\n",
        "\n",
        "\n",
        "\n",
        "\n",
        "\n"
      ],
      "metadata": {
        "id": "lvaTpnUulG04"
      },
      "execution_count": 58,
      "outputs": []
    },
    {
      "cell_type": "code",
      "source": [
        "patches[2800].shape\n",
        "\n"
      ],
      "metadata": {
        "colab": {
          "base_uri": "https://localhost:8080/"
        },
        "id": "wNVWzkq9lKhw",
        "outputId": "63cd092d-3c87-47ea-a911-ddb4e86f1de3"
      },
      "execution_count": 62,
      "outputs": [
        {
          "output_type": "execute_result",
          "data": {
            "text/plain": [
              "(50, 50, 3)"
            ]
          },
          "metadata": {},
          "execution_count": 62
        }
      ]
    },
    {
      "cell_type": "code",
      "source": [
        "plt.imshow(img)"
      ],
      "metadata": {
        "colab": {
          "base_uri": "https://localhost:8080/"
        },
        "id": "X8oehaUYrjPu",
        "outputId": "3a6b491a-ec43-4a93-89d2-98ae2fcbc091"
      },
      "execution_count": 32,
      "outputs": [
        {
          "output_type": "execute_result",
          "data": {
            "text/plain": [
              "(180, 180, 3)"
            ]
          },
          "metadata": {},
          "execution_count": 32
        }
      ]
    },
    {
      "cell_type": "code",
      "source": [],
      "metadata": {
        "id": "kS1lnhAbsVYN"
      },
      "execution_count": null,
      "outputs": []
    }
  ]
}